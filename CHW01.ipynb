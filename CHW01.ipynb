{
 "cells": [
  {
   "cell_type": "code",
   "execution_count": 164,
   "metadata": {},
   "outputs": [
    {
     "name": "stdout",
     "output_type": "stream",
     "text": [
      "    rokhdad                  tedad\n",
      " 6 facists                    59\n",
      " 5 facists 1 liberals         263\n",
      " 4 facists 2 liberals         334\n",
      " 3 facists 3 liberals         222\n",
      " 2 facists 4 liberals         98\n",
      " 1 facists 5 liberals         23\n",
      " 6 liberals                   1\n"
     ]
    }
   ],
   "source": [
    "##a-3\n",
    "import random\n",
    "random.seed(400101956)\n",
    "list1 = []\n",
    "list2= []\n",
    "for i in range(0,8):\n",
    "    list1.append(0)\n",
    "for i in range (0,17):\n",
    "    if i<11:\n",
    "        list2.append(0)\n",
    "    else:\n",
    "        list2.append(1)\n",
    "\n",
    "for i in range(1000):\n",
    "    choices = random.choices(list2, k = 6)\n",
    "    list1[sum(choices)]+=1\n",
    "    \n",
    "print ('    rokhdad       ','          tedad')\n",
    "print (' 6 facists                   ', list1[0])\n",
    "print (' 5 facists 1 liberals        ', list1[1])\n",
    "print (' 4 facists 2 liberals        ', list1[2])\n",
    "print (' 3 facists 3 liberals        ', list1[3])\n",
    "print (' 2 facists 4 liberals        ', list1[4])\n",
    "print (' 1 facists 5 liberals        ', list1[5])\n",
    "print (' 6 liberals                  ', list1[6])"
   ]
  },
  {
   "cell_type": "code",
   "execution_count": 159,
   "metadata": {},
   "outputs": [
    {
     "name": "stdout",
     "output_type": "stream",
     "text": [
      "    rokhdad                  tedad\n",
      " 4 facists 2 liberals         287\n",
      " 3 facists 3 liberals         430\n",
      " 2 facists 4 liberals         222\n",
      " 1 facists 5 liberals         59\n",
      " 6 liberals                   2\n"
     ]
    }
   ],
   "source": [
    "##b-3\n",
    "import random\n",
    "random.seed(400101956)\n",
    "list1 = [0,0,0,0,0,0,0]\n",
    "list2 = [0,0,0,0,0,0,0,0,0,0,0,1,1,1,1]\n",
    "for i in range(1000):\n",
    "    choices = random.choices(list2, k = 4)\n",
    "    list1[sum(choices)+2]+=1\n",
    "    \n",
    "print ('    rokhdad       ','          tedad')\n",
    "print (' 4 facists 2 liberals        ', list1[2])\n",
    "print (' 3 facists 3 liberals        ', list1[3])\n",
    "print (' 2 facists 4 liberals        ', list1[4])\n",
    "print (' 1 facists 5 liberals        ', list1[5])\n",
    "print (' 6 liberals                  ', list1[6])"
   ]
  },
  {
   "cell_type": "code",
   "execution_count": 157,
   "metadata": {},
   "outputs": [
    {
     "name": "stdout",
     "output_type": "stream",
     "text": [
      "    rokhdad                  tedad\n",
      " 6 facists                    103\n",
      " 5 facists 1 liberals         380\n",
      " 4 facists 2 liberals         348\n",
      " 3 facists 3 liberals         139\n",
      " 2 facists 4 liberals         30\n"
     ]
    }
   ],
   "source": [
    "##c-3\n",
    "import random\n",
    "random.seed(400101956)\n",
    "list1 = [0,0,0,0,0,0,0]\n",
    "\n",
    "list2 = [0,0,0,0,0,0,0,0,0,1,1,1,1,1,1]\n",
    "for i in range(1000):\n",
    "    choices = random.choices(list2, k = 4)\n",
    "    list1[sum(choices)]+=1\n",
    "    \n",
    "print ('    rokhdad       ','          tedad')\n",
    "print (' 6 facists                   ', list1[0])\n",
    "print (' 5 facists 1 liberals        ', list1[1])\n",
    "print (' 4 facists 2 liberals        ', list1[2])\n",
    "print (' 3 facists 3 liberals        ', list1[3])\n",
    "print (' 2 facists 4 liberals        ', list1[4])"
   ]
  },
  {
   "cell_type": "code",
   "execution_count": 156,
   "metadata": {},
   "outputs": [
    {
     "name": "stdout",
     "output_type": "stream",
     "text": [
      "    rokhdad                  tedad\n",
      " 5 facists 1 liberals         167\n",
      " 4 facists 2 liberals         436\n",
      " 3 facists 3 liberals         290\n",
      " 2 facists 4 liberals         97\n",
      " 1 facists 5 liberals         10\n"
     ]
    }
   ],
   "source": [
    "##d-3\n",
    "import random\n",
    "random.seed(400101956)\n",
    "list1 = [0,0,0,0,0,0,0]\n",
    "list2 = [0,0,0,0,0,0,0,0,0,0,1,1,1,1,1]\n",
    "for i in range(1000):\n",
    "    choices = random.choices(list2, k = 4)\n",
    "    list1[sum(choices)+1]+=1\n",
    "    \n",
    "print ('    rokhdad       ','          tedad')\n",
    "print (' 5 facists 1 liberals        ', list1[1])\n",
    "print (' 4 facists 2 liberals        ', list1[2])\n",
    "print (' 3 facists 3 liberals        ', list1[3])\n",
    "print (' 2 facists 4 liberals        ', list1[4])\n",
    "print (' 1 facists 5 liberals        ', list1[5])\n"
   ]
  },
  {
   "cell_type": "code",
   "execution_count": 199,
   "metadata": {},
   "outputs": [
    {
     "name": "stdout",
     "output_type": "stream",
     "text": [
      "rokhdad(akhar dour yek)     tedad\n",
      "Liberal-Discarded-               333\n",
      "facist-Discarded-                667\n",
      "rokhdad(akhar dour do)     tedad\n",
      "Liberal-Discarded-              356\n",
      "facist-Discarded-               644\n"
     ]
    }
   ],
   "source": [
    "##e-3\n",
    "import random\n",
    "random.seed(400101956)\n",
    "list1 = [0,0]\n",
    "list = [0,0,0,0,0,0,0,0,0,0,1,1,1,1,1]\n",
    "for i in range(1000):\n",
    "    choices = random.choices(list, k = 1)\n",
    "    list1[sum(choices)]+=1\n",
    "print ('rokhdad(akhar dour yek)   ',  ' tedad')\n",
    "print ('Liberal-Discarded-              ',list1[1])\n",
    "print ('facist-Discarded-               ',list1[0])\n",
    "list1 = [0,0]\n",
    "random.seed(400101956)\n",
    "list = [0,0,0,0,0,0,0,0,0,1,1,1,1,1]\n",
    "for i in range(1000):\n",
    "    choices = random.choices(list, k = 1)\n",
    "    list1[sum(choices)]+=1\n",
    "print ('rokhdad(akhar dour do)   ',  ' tedad')\n",
    "print ('Liberal-Discarded-             ',list1[1])\n",
    "print ('facist-Discarded-              ',list1[0])"
   ]
  },
  {
   "cell_type": "code",
   "execution_count": 198,
   "metadata": {},
   "outputs": [
    {
     "name": "stdout",
     "output_type": "stream",
     "text": [
      "    rokhdad                  tedad\n",
      " 6 facists                    0\n",
      " 5 facists 1 liberals         247\n",
      " 4 facists 2 liberals         458\n",
      " 3 facists 3 liberals         259\n",
      " 2 facists 4 liberals         36\n",
      " 1 facists 5 liberals         0\n",
      " 6 liberals                   0\n"
     ]
    }
   ],
   "source": [
    "##f-3\n",
    "import random\n",
    "list1 = [0,0,0,0,0,0,0]\n",
    "random.seed(400101956)\n",
    "list2 = [0,0,0,0,0,0,0,0,0,1,1,1,1,1]\n",
    "for i in range(1000):\n",
    "    choices = random.choices(list2, k = 3)\n",
    "    list1[sum(choices)+1]+=1\n",
    "print ('    rokhdad       ','          tedad')\n",
    "print (' 6 facists                   ', list1[0])\n",
    "print (' 5 facists 1 liberals        ', list1[1])\n",
    "print (' 4 facists 2 liberals        ', list1[2])\n",
    "print (' 3 facists 3 liberals        ', list1[3])\n",
    "print (' 2 facists 4 liberals        ', list1[4])\n",
    "print (' 1 facists 5 liberals        ', list1[5])\n",
    "print (' 6 liberals                  ', list1[6])"
   ]
  }
 ],
 "metadata": {
  "kernelspec": {
   "display_name": "Python 3",
   "language": "python",
   "name": "python3"
  },
  "language_info": {
   "codemirror_mode": {
    "name": "ipython",
    "version": 3
   },
   "file_extension": ".py",
   "mimetype": "text/x-python",
   "name": "python",
   "nbconvert_exporter": "python",
   "pygments_lexer": "ipython3",
   "version": "3.7.0"
  }
 },
 "nbformat": 4,
 "nbformat_minor": 2
}
